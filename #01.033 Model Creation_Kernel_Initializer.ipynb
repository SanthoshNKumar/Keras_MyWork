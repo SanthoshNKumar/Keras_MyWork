{
 "cells": [
  {
   "cell_type": "code",
   "execution_count": null,
   "metadata": {},
   "outputs": [],
   "source": [
    "# In Machine Learning, weight will be assigned to all input data. Initializers module provides \n",
    "# different functions to set these initial weight. Some of the Keras Initializer function are as follows −"
   ]
  },
  {
   "cell_type": "code",
   "execution_count": 3,
   "metadata": {},
   "outputs": [],
   "source": [
    "from tensorflow.keras.models import Sequential\n",
    "from tensorflow.keras import layers\n",
    "from tensorflow.keras import initializers\n"
   ]
  },
  {
   "cell_type": "code",
   "execution_count": 5,
   "metadata": {},
   "outputs": [
    {
     "name": "stdout",
     "output_type": "stream",
     "text": [
      "WARNING:tensorflow:From c:\\users\\insakum46\\appdata\\local\\programs\\python\\python37\\lib\\site-packages\\tensorflow_core\\python\\ops\\resource_variable_ops.py:1630: calling BaseResourceVariable.__init__ (from tensorflow.python.ops.resource_variable_ops) with constraint is deprecated and will be removed in a future version.\n",
      "Instructions for updating:\n",
      "If using Keras pass *_constraint arguments to layers.\n"
     ]
    }
   ],
   "source": [
    "my_init = initializers.Zeros() \n",
    "\n",
    "model = Sequential() \n",
    "\n",
    "model.add(layers.Dense(512, activation = 'relu', input_shape = (784,), kernel_initializer = my_init))"
   ]
  },
  {
   "cell_type": "code",
   "execution_count": null,
   "metadata": {},
   "outputs": [],
   "source": [
    "my_init = initializers.Ones() \n",
    "model = Sequential() \n",
    "model.add(layers.Dense(512, activation = 'relu', input_shape = (784,), kernel_initializer = my_init))"
   ]
  },
  {
   "cell_type": "code",
   "execution_count": null,
   "metadata": {},
   "outputs": [],
   "source": [
    "my_init = initializers.Constant(value = 5) \n",
    "\n",
    "model.add(layers.Dense(512, activation = 'relu', input_shape = (784,), kernel_initializer = my_init)"
   ]
  },
  {
   "cell_type": "code",
   "execution_count": null,
   "metadata": {},
   "outputs": [],
   "source": [
    "# RandomNormal\n",
    "\n",
    "my_init = initializers.RandomNormal(mean=0.0, stddev = 0.05, seed = None) \n",
    "model.add(Dense(512, activation = 'relu', input_shape = (784,), kernel_initializer = my_init))\n"
   ]
  },
  {
   "cell_type": "code",
   "execution_count": null,
   "metadata": {},
   "outputs": [],
   "source": [
    "# RandomUniform\n",
    "\n",
    "my_init = initializers.RandomUniform(minval = -0.05, maxval = 0.05, seed = None) \n",
    "model.add(Dense(512, activation = 'relu', input_shape = (784,), kernel_initializer = my_init))"
   ]
  },
  {
   "cell_type": "code",
   "execution_count": null,
   "metadata": {},
   "outputs": [],
   "source": [
    "# TruncatedNormal\n",
    "\n",
    "my_init = initializers.TruncatedNormal(mean = 0.0, stddev = 0.05, seed = None)\n",
    "model.add(Dense(512, activation = 'relu', input_shape = (784,), kernel_initializer = my_init))"
   ]
  },
  {
   "cell_type": "code",
   "execution_count": null,
   "metadata": {},
   "outputs": [],
   "source": [
    "# VarianceScaling\n",
    "\n",
    "my_init = initializers.VarianceScaling(scale = 1.0, mode = 'fan_in', distribution = 'normal', seed = None) \n",
    "model.add(Dense(512, activation = 'relu', input_shape = (784,), kernel_initializer = my_init))"
   ]
  },
  {
   "cell_type": "code",
   "execution_count": null,
   "metadata": {},
   "outputs": [],
   "source": [
    "# lecun_normal\n",
    "\n",
    "my_init = initializers.RandomUniform(minval = -0.05, maxval = 0.05, seed = None)\n",
    "model.add(Dense(512, activation = 'relu', input_shape = (784,), kernel_initializer = my_init))"
   ]
  },
  {
   "cell_type": "code",
   "execution_count": null,
   "metadata": {},
   "outputs": [],
   "source": [
    "# lecun_uniform\n",
    "\n",
    "my_init = initializers.lecun_uniform(seed = None) \n",
    "model.add(Dense(512, activation = 'relu', input_shape = (784,), kernel_initializer = my_init))"
   ]
  },
  {
   "cell_type": "code",
   "execution_count": null,
   "metadata": {},
   "outputs": [],
   "source": [
    "# glorot_normal\n",
    "\n",
    "my_init = initializers.glorot_normal(seed=None) \n",
    "model.add(Dense(512, activation = 'relu', input_shape = (784,), kernel_initializer = my_init))"
   ]
  },
  {
   "cell_type": "code",
   "execution_count": null,
   "metadata": {},
   "outputs": [],
   "source": []
  },
  {
   "cell_type": "code",
   "execution_count": null,
   "metadata": {},
   "outputs": [],
   "source": []
  }
 ],
 "metadata": {
  "kernelspec": {
   "display_name": "Python 3",
   "language": "python",
   "name": "python3"
  },
  "language_info": {
   "codemirror_mode": {
    "name": "ipython",
    "version": 3
   },
   "file_extension": ".py",
   "mimetype": "text/x-python",
   "name": "python",
   "nbconvert_exporter": "python",
   "pygments_lexer": "ipython3",
   "version": "3.7.4"
  }
 },
 "nbformat": 4,
 "nbformat_minor": 2
}
