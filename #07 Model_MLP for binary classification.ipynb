{
 "cells": [
  {
   "cell_type": "code",
   "execution_count": 1,
   "metadata": {},
   "outputs": [],
   "source": [
    "# Note For binary Classification kindly use : sigmoid activation function in the output and \n",
    "# binary_crossentropy as loss function\n",
    "\n",
    "# For Multi class classification use softmax activation function at output"
   ]
  },
  {
   "cell_type": "code",
   "execution_count": 13,
   "metadata": {},
   "outputs": [
    {
     "data": {
      "text/plain": [
       "(1000, 20)"
      ]
     },
     "execution_count": 13,
     "metadata": {},
     "output_type": "execute_result"
    }
   ],
   "source": [
    "import numpy as np\n",
    "import pandas as pd\n",
    "from tensorflow.keras.models import Sequential\n",
    "from tensorflow.keras.layers import Dense,Dropout\n",
    "\n",
    "\n",
    "# Generate dummy data\n",
    "x_train = np.random.random((1000, 20))  # 20 Features\n",
    "y_train = np.random.randint(2, size=(1000, 1)) # Binary output\n",
    "x_test = np.random.random((100, 20))\n",
    "y_test = np.random.randint(2, size=(100, 1))\n",
    "\n",
    "x_train.shape"
   ]
  },
  {
   "cell_type": "code",
   "execution_count": 19,
   "metadata": {},
   "outputs": [
    {
     "data": {
      "text/plain": [
       "array([1, 0], dtype=int64)"
      ]
     },
     "execution_count": 19,
     "metadata": {},
     "output_type": "execute_result"
    }
   ],
   "source": [
    "pd.DataFrame(y_train)[0].uniqueque() # 0 and 1 are the values in Binary classification"
   ]
  },
  {
   "cell_type": "code",
   "execution_count": 23,
   "metadata": {},
   "outputs": [
    {
     "name": "stdout",
     "output_type": "stream",
     "text": [
      "Train on 1000 samples\n",
      "Epoch 1/20\n",
      "1000/1000 [==============================] - 0s 124us/sample - loss: 0.7133 - acc: 0.5050\n",
      "Epoch 2/20\n",
      "1000/1000 [==============================] - 0s 16us/sample - loss: 0.7134 - acc: 0.5070\n",
      "Epoch 3/20\n",
      "1000/1000 [==============================] - 0s 12us/sample - loss: 0.7109 - acc: 0.5160\n",
      "Epoch 4/20\n",
      "1000/1000 [==============================] - 0s 16us/sample - loss: 0.7164 - acc: 0.4820\n",
      "Epoch 5/20\n",
      "1000/1000 [==============================] - 0s 14us/sample - loss: 0.7023 - acc: 0.5100\n",
      "Epoch 6/20\n",
      "1000/1000 [==============================] - 0s 12us/sample - loss: 0.6992 - acc: 0.5100\n",
      "Epoch 7/20\n",
      "1000/1000 [==============================] - 0s 16us/sample - loss: 0.6936 - acc: 0.5430\n",
      "Epoch 8/20\n",
      "1000/1000 [==============================] - 0s 16us/sample - loss: 0.7013 - acc: 0.4990\n",
      "Epoch 9/20\n",
      "1000/1000 [==============================] - 0s 16us/sample - loss: 0.7020 - acc: 0.4910\n",
      "Epoch 10/20\n",
      "1000/1000 [==============================] - 0s 18us/sample - loss: 0.6966 - acc: 0.5150\n",
      "Epoch 11/20\n",
      "1000/1000 [==============================] - 0s 12us/sample - loss: 0.6938 - acc: 0.5160\n",
      "Epoch 12/20\n",
      "1000/1000 [==============================] - 0s 12us/sample - loss: 0.6984 - acc: 0.5060\n",
      "Epoch 13/20\n",
      "1000/1000 [==============================] - ETA: 0s - loss: 0.6887 - acc: 0.507 - 0s 16us/sample - loss: 0.6932 - acc: 0.5330\n",
      "Epoch 14/20\n",
      "1000/1000 [==============================] - 0s 16us/sample - loss: 0.6978 - acc: 0.5150\n",
      "Epoch 15/20\n",
      "1000/1000 [==============================] - ETA: 0s - loss: 0.7065 - acc: 0.484 - 0s 16us/sample - loss: 0.6974 - acc: 0.4840\n",
      "Epoch 16/20\n",
      "1000/1000 [==============================] - 0s 16us/sample - loss: 0.6973 - acc: 0.5030\n",
      "Epoch 17/20\n",
      "1000/1000 [==============================] - 0s 14us/sample - loss: 0.6852 - acc: 0.5710\n",
      "Epoch 18/20\n",
      "1000/1000 [==============================] - 0s 16us/sample - loss: 0.6938 - acc: 0.5200\n",
      "Epoch 19/20\n",
      "1000/1000 [==============================] - 0s 16us/sample - loss: 0.6917 - acc: 0.5300\n",
      "Epoch 20/20\n",
      "1000/1000 [==============================] - 0s 16us/sample - loss: 0.6956 - acc: 0.5070\n"
     ]
    },
    {
     "data": {
      "text/plain": [
       "<tensorflow.python.keras.callbacks.History at 0x1dfdf930e08>"
      ]
     },
     "execution_count": 23,
     "metadata": {},
     "output_type": "execute_result"
    }
   ],
   "source": [
    "# Initilize the model\n",
    "model = Sequential()\n",
    "\n",
    "# Add Model layer\n",
    "model.add(Dense(64,input_dim = 20,activation='relu'))\n",
    "model.add(Dropout(0.5))\n",
    "model.add(Dense(64,activation='relu'))\n",
    "model.add(Dropout(0.5))\n",
    "model.add(Dense(1,activation='sigmoid'))\n",
    "\n",
    "\n",
    "# Compile Model\n",
    "model.compile(optimizer='rmsprop',loss = 'binary_crossentropy',metrics = ['accuracy'])\n",
    "\n",
    "# Train Model \n",
    "model.fit(x_train,y_train,epochs =20,batch_size=128)"
   ]
  },
  {
   "cell_type": "code",
   "execution_count": null,
   "metadata": {},
   "outputs": [],
   "source": []
  }
 ],
 "metadata": {
  "kernelspec": {
   "display_name": "Python 3",
   "language": "python",
   "name": "python3"
  },
  "language_info": {
   "codemirror_mode": {
    "name": "ipython",
    "version": 3
   },
   "file_extension": ".py",
   "mimetype": "text/x-python",
   "name": "python",
   "nbconvert_exporter": "python",
   "pygments_lexer": "ipython3",
   "version": "3.7.4"
  }
 },
 "nbformat": 4,
 "nbformat_minor": 2
}
