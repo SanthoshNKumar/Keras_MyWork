{
 "cells": [
  {
   "cell_type": "code",
   "execution_count": 5,
   "metadata": {},
   "outputs": [],
   "source": [
    "# Reshape is used to change the shape of the input. For example, \n",
    "# if reshape with argument (2,3) is applied to layer having input shape as (batch_size, 3, 2), \n",
    "# then the output shape of the layer will be (batch_size, 2, 3)"
   ]
  },
  {
   "cell_type": "code",
   "execution_count": 6,
   "metadata": {},
   "outputs": [],
   "source": [
    "from tensorflow.keras.models import Sequential\n",
    "from tensorflow.keras import layers"
   ]
  },
  {
   "cell_type": "code",
   "execution_count": 13,
   "metadata": {},
   "outputs": [
    {
     "name": "stdout",
     "output_type": "stream",
     "text": [
      "Tensor(\"dense_8/BiasAdd:0\", shape=(?, 8, 16), dtype=float32)\n",
      "Tensor(\"reshape_7/Reshape:0\", shape=(?, 16, 8), dtype=float32)\n"
     ]
    }
   ],
   "source": [
    "model = Sequential()\n",
    "\n",
    "layer_1 = layers.Dense(16,input_shape= (8,8))\n",
    "model.add(layer_1)\n",
    "\n",
    "print(layer_1.output)\n",
    "\n",
    "layer_2 = layers.Reshape((16,8))\n",
    "model.add(layer_2)\n",
    "\n",
    "print(layer_2.output)"
   ]
  },
  {
   "cell_type": "code",
   "execution_count": null,
   "metadata": {},
   "outputs": [],
   "source": [
    "\n"
   ]
  }
 ],
 "metadata": {
  "kernelspec": {
   "display_name": "Python 3",
   "language": "python",
   "name": "python3"
  },
  "language_info": {
   "codemirror_mode": {
    "name": "ipython",
    "version": 3
   },
   "file_extension": ".py",
   "mimetype": "text/x-python",
   "name": "python",
   "nbconvert_exporter": "python",
   "pygments_lexer": "ipython3",
   "version": "3.7.4"
  }
 },
 "nbformat": 4,
 "nbformat_minor": 2
}
