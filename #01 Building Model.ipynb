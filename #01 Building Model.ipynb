{
 "cells": [
  {
   "cell_type": "code",
   "execution_count": 38,
   "metadata": {},
   "outputs": [],
   "source": [
    "import pandas as pd\n",
    "\n",
    "train_df = pd.read_csv(\"C:\\\\MyWork\\\\MyLearning\\\\ML\\\\Files\\\\DataSet\\\\hourly_wages_data.csv\")"
   ]
  },
  {
   "cell_type": "code",
   "execution_count": 39,
   "metadata": {},
   "outputs": [],
   "source": [
    "train_X = train_df.drop(columns=['wage_per_hour'])\n",
    "train_y = train_df['wage_per_hour']\n",
    "\n",
    "n_cols = train_X.shape[1]"
   ]
  },
  {
   "cell_type": "code",
   "execution_count": null,
   "metadata": {},
   "outputs": [],
   "source": [
    "\n",
    "#1 Create Model\n",
    "\n",
    "#2 Add Model Layer\n",
    "\n",
    "#3 Compile Model\n",
    "\n",
    "#4 Training Model\n"
   ]
  },
  {
   "cell_type": "code",
   "execution_count": 40,
   "metadata": {},
   "outputs": [],
   "source": [
    "from tensorflow.keras.models import Sequential\n",
    "from tensorflow.keras.layers import Dense\n",
    "\n",
    "# Create Model\n",
    "model = Sequential()\n",
    "\n",
    "# Add Model layer\n",
    "model.add(Dense(10,activation='relu',input_shape=(n_cols,)))\n",
    "model.add(Dense(10,activation='relu'))\n",
    "model.add(Dense(1))"
   ]
  },
  {
   "cell_type": "code",
   "execution_count": 41,
   "metadata": {},
   "outputs": [],
   "source": [
    "\n",
    "# Compile Model\n",
    "model.compile(optimizer='adam',loss='mean_squared_error')"
   ]
  },
  {
   "cell_type": "code",
   "execution_count": 42,
   "metadata": {},
   "outputs": [
    {
     "name": "stdout",
     "output_type": "stream",
     "text": [
      "Train on 427 samples, validate on 107 samples\n",
      "Epoch 1/100\n",
      "427/427 [==============================] - 1s 2ms/sample - loss: 110.7196 - val_loss: 158.8325\n",
      "Epoch 2/100\n",
      "427/427 [==============================] - 0s 202us/sample - loss: 78.0887 - val_loss: 128.2010\n",
      "Epoch 3/100\n",
      "427/427 [==============================] - 0s 178us/sample - loss: 58.7471 - val_loss: 104.9441\n",
      "Epoch 4/100\n",
      "427/427 [==============================] - 0s 193us/sample - loss: 45.7361 - val_loss: 86.3126\n",
      "Epoch 5/100\n",
      "427/427 [==============================] - 0s 197us/sample - loss: 36.2299 - val_loss: 71.2552\n",
      "Epoch 6/100\n",
      "427/427 [==============================] - 0s 207us/sample - loss: 29.3614 - val_loss: 54.2762\n",
      "Epoch 7/100\n",
      "427/427 [==============================] - 0s 206us/sample - loss: 22.6981 - val_loss: 36.3769\n",
      "Epoch 8/100\n",
      "427/427 [==============================] - 0s 211us/sample - loss: 21.2713 - val_loss: 33.2946\n",
      "Epoch 9/100\n",
      "427/427 [==============================] - 0s 185us/sample - loss: 20.3147 - val_loss: 34.8729\n",
      "Epoch 10/100\n",
      "427/427 [==============================] - 0s 188us/sample - loss: 19.8411 - val_loss: 32.4736\n",
      "Epoch 11/100\n",
      "427/427 [==============================] - 0s 188us/sample - loss: 19.5171 - val_loss: 32.0398\n",
      "Epoch 12/100\n",
      "427/427 [==============================] - 0s 200us/sample - loss: 19.3565 - val_loss: 32.8133\n",
      "Epoch 13/100\n",
      "427/427 [==============================] - 0s 203us/sample - loss: 19.2452 - val_loss: 31.3397\n",
      "Epoch 14/100\n",
      "427/427 [==============================] - 0s 220us/sample - loss: 19.2238 - val_loss: 32.2330\n",
      "Epoch 15/100\n",
      "427/427 [==============================] - 0s 207us/sample - loss: 19.1380 - val_loss: 31.2306\n",
      "Epoch 16/100\n",
      "427/427 [==============================] - 0s 202us/sample - loss: 19.1121 - val_loss: 32.0274\n",
      "Epoch 17/100\n",
      "427/427 [==============================] - 0s 209us/sample - loss: 19.0401 - val_loss: 31.2573\n",
      "Epoch 18/100\n",
      "427/427 [==============================] - 0s 254us/sample - loss: 18.9973 - val_loss: 31.4830\n"
     ]
    },
    {
     "data": {
      "text/plain": [
       "<tensorflow.python.keras.callbacks.History at 0x1c81730c948>"
      ]
     },
     "execution_count": 42,
     "metadata": {},
     "output_type": "execute_result"
    }
   ],
   "source": [
    "from keras.callbacks import EarlyStopping\n",
    "\n",
    "early_stopping_monitor = EarlyStopping(patience=3)\n",
    "\n",
    "# Train Model\n",
    "model.fit(train_X,train_y,validation_split=0.2,epochs=100,callbacks=[early_stopping_monitor])"
   ]
  },
  {
   "cell_type": "code",
   "execution_count": null,
   "metadata": {},
   "outputs": [],
   "source": []
  }
 ],
 "metadata": {
  "kernelspec": {
   "display_name": "Python 3",
   "language": "python",
   "name": "python3"
  },
  "language_info": {
   "codemirror_mode": {
    "name": "ipython",
    "version": 3
   },
   "file_extension": ".py",
   "mimetype": "text/x-python",
   "name": "python",
   "nbconvert_exporter": "python",
   "pygments_lexer": "ipython3",
   "version": "3.7.4"
  }
 },
 "nbformat": 4,
 "nbformat_minor": 2
}
