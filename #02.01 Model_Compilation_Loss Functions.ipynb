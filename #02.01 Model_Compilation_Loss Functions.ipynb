{
 "cells": [
  {
   "cell_type": "code",
   "execution_count": 1,
   "metadata": {},
   "outputs": [],
   "source": [
    "#Loss : In machine learning, Loss function is used to find error or deviation in the learning process.\n",
    "\n",
    "# Keras provides quite a few loss function in the losses module and they are as follows\n",
    "\n",
    "#1. mean_squared_error\n",
    "#2. mean_absolute_error\n",
    "#3. mean_absolute_percentage_error\n",
    "#4. mean_squared_logarithmic_error\n",
    "#5. squared_hinge\n",
    "#6. hinge\n",
    "#7. categorical_hinge\n",
    "#8. logcosh\n",
    "#9. huber_loss\n",
    "#10. categorical_crossentropy\n",
    "#11. sparse_categorical_crossentropy\n",
    "#12. binary_crossentropy\n",
    "#13. kullback_leibler_divergence\n",
    "#14. poisson\n",
    "#15. cosine_proximity\n",
    "#16. is_categorical_crossentropy"
   ]
  },
  {
   "cell_type": "code",
   "execution_count": 2,
   "metadata": {},
   "outputs": [],
   "source": [
    "from tensorflow.keras.losses import BinaryCrossentropy\n",
    "from tensorflow.keras.losses import CosineSimilarity\n",
    "\n",
    "from tensorflow.keras.losses import Huber"
   ]
  },
  {
   "cell_type": "code",
   "execution_count": null,
   "metadata": {},
   "outputs": [],
   "source": []
  }
 ],
 "metadata": {
  "kernelspec": {
   "display_name": "Python 3",
   "language": "python",
   "name": "python3"
  },
  "language_info": {
   "codemirror_mode": {
    "name": "ipython",
    "version": 3
   },
   "file_extension": ".py",
   "mimetype": "text/x-python",
   "name": "python",
   "nbconvert_exporter": "python",
   "pygments_lexer": "ipython3",
   "version": "3.7.4"
  }
 },
 "nbformat": 4,
 "nbformat_minor": 2
}
