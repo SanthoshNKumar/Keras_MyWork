{
 "cells": [
  {
   "cell_type": "code",
   "execution_count": 31,
   "metadata": {},
   "outputs": [],
   "source": [
    "import pandas as pd\n",
    "from tensorflow.keras.models import Sequential\n",
    "from tensorflow.keras.layers import Dense"
   ]
  },
  {
   "cell_type": "code",
   "execution_count": 32,
   "metadata": {},
   "outputs": [],
   "source": [
    "dataset = pd.read_csv(\"hourly_wages_data.csv\")\n",
    "\n",
    "X = dataset.iloc[:,0:9]\n",
    "y = dataset.iloc[:,9:10]"
   ]
  },
  {
   "cell_type": "code",
   "execution_count": 33,
   "metadata": {},
   "outputs": [],
   "source": [
    "# Create model\n",
    "model = Sequential()\n",
    "\n",
    "#get number of columns in training data\n",
    "n_cols = X.shape[1]\n",
    "\n",
    "# Add Models layes\n",
    "model.add(Dense(10,activation='relu',input_shape=(n_cols,)))\n",
    "model.add(Dense(10, activation='relu'))\n",
    "model.add(Dense(1))"
   ]
  },
  {
   "cell_type": "code",
   "execution_count": 34,
   "metadata": {},
   "outputs": [
    {
     "name": "stdout",
     "output_type": "stream",
     "text": [
      "WARNING:tensorflow:From c:\\users\\insakum46\\appdata\\local\\programs\\python\\python36\\lib\\site-packages\\tensorflow\\python\\keras\\utils\\losses_utils.py:170: to_float (from tensorflow.python.ops.math_ops) is deprecated and will be removed in a future version.\n",
      "Instructions for updating:\n",
      "Use tf.cast instead.\n"
     ]
    }
   ],
   "source": [
    "#compile model using mse as a measure of model performance\n",
    "model.compile(optimizer='adam', loss='mean_squared_error')"
   ]
  },
  {
   "cell_type": "code",
   "execution_count": 35,
   "metadata": {},
   "outputs": [
    {
     "name": "stdout",
     "output_type": "stream",
     "text": [
      "Train on 427 samples, validate on 107 samples\n",
      "WARNING:tensorflow:From c:\\users\\insakum46\\appdata\\local\\programs\\python\\python36\\lib\\site-packages\\tensorflow\\python\\ops\\math_ops.py:3066: to_int32 (from tensorflow.python.ops.math_ops) is deprecated and will be removed in a future version.\n",
      "Instructions for updating:\n",
      "Use tf.cast instead.\n",
      "Epoch 1/30\n",
      "427/427 [==============================] - 0s 880us/sample - loss: 1.8393 - val_loss: 1.3002\n",
      "Epoch 2/30\n",
      "427/427 [==============================] - 0s 6us/sample - loss: 1.1755 - val_loss: 0.8768\n",
      "Epoch 3/30\n",
      "427/427 [==============================] - 0s 79us/sample - loss: 0.7988 - val_loss: 0.6621\n",
      "Epoch 4/30\n",
      "427/427 [==============================] - 0s 88us/sample - loss: 0.5760 - val_loss: 0.5292\n",
      "Epoch 5/30\n",
      "427/427 [==============================] - 0s 42us/sample - loss: 0.4478 - val_loss: 0.4010\n",
      "Epoch 6/30\n",
      "427/427 [==============================] - 0s 110us/sample - loss: 0.3584 - val_loss: 0.2915\n",
      "Epoch 7/30\n",
      "427/427 [==============================] - 0s 41us/sample - loss: 0.2882 - val_loss: 0.2466\n",
      "Epoch 8/30\n",
      "427/427 [==============================] - 0s 76us/sample - loss: 0.2373 - val_loss: 0.1827\n",
      "Epoch 9/30\n",
      "427/427 [==============================] - 0s 88us/sample - loss: 0.1988 - val_loss: 0.1405\n",
      "Epoch 10/30\n",
      "427/427 [==============================] - 0s 88us/sample - loss: 0.1717 - val_loss: 0.1237\n",
      "Epoch 11/30\n",
      "427/427 [==============================] - 0s 82us/sample - loss: 0.1512 - val_loss: 0.1064\n",
      "Epoch 12/30\n",
      "427/427 [==============================] - 0s 42us/sample - loss: 0.1334 - val_loss: 0.0984\n",
      "Epoch 13/30\n",
      "427/427 [==============================] - 0s 85us/sample - loss: 0.1232 - val_loss: 0.0956\n",
      "Epoch 14/30\n",
      "427/427 [==============================] - 0s 76us/sample - loss: 0.1170 - val_loss: 0.0758\n",
      "Epoch 15/30\n",
      "427/427 [==============================] - 0s 70us/sample - loss: 0.1109 - val_loss: 0.0630\n",
      "Epoch 16/30\n",
      "427/427 [==============================] - 0s 76us/sample - loss: 0.1039 - val_loss: 0.0646\n",
      "Epoch 17/30\n",
      "427/427 [==============================] - 0s 64us/sample - loss: 0.0993 - val_loss: 0.0649\n",
      "Epoch 18/30\n",
      "427/427 [==============================] - 0s 59us/sample - loss: 0.0950 - val_loss: 0.0608\n",
      "Epoch 19/30\n",
      "427/427 [==============================] - 0s 53us/sample - loss: 0.0915 - val_loss: 0.0517\n",
      "Epoch 20/30\n",
      "427/427 [==============================] - 0s 105us/sample - loss: 0.0888 - val_loss: 0.0594\n",
      "Epoch 21/30\n",
      "427/427 [==============================] - 0s 70us/sample - loss: 0.0849 - val_loss: 0.0521\n",
      "Epoch 22/30\n",
      "427/427 [==============================] - 0s 70us/sample - loss: 0.0861 - val_loss: 0.0551\n"
     ]
    },
    {
     "data": {
      "text/plain": [
       "<tensorflow.python.keras.callbacks.History at 0x19717c50>"
      ]
     },
     "execution_count": 35,
     "metadata": {},
     "output_type": "execute_result"
    }
   ],
   "source": [
    "from tensorflow.keras.callbacks import EarlyStopping\n",
    "early_stopping_monitor = EarlyStopping(patience=3)\n",
    "\n",
    "#train model\n",
    "model.fit(X, y, validation_split=0.2, epochs=30, callbacks=[early_stopping_monitor])"
   ]
  },
  {
   "cell_type": "code",
   "execution_count": null,
   "metadata": {},
   "outputs": [],
   "source": []
  }
 ],
 "metadata": {
  "kernelspec": {
   "display_name": "Python 3",
   "language": "python",
   "name": "python3"
  },
  "language_info": {
   "codemirror_mode": {
    "name": "ipython",
    "version": 3
   },
   "file_extension": ".py",
   "mimetype": "text/x-python",
   "name": "python",
   "nbconvert_exporter": "python",
   "pygments_lexer": "ipython3",
   "version": "3.7.4"
  }
 },
 "nbformat": 4,
 "nbformat_minor": 2
}
