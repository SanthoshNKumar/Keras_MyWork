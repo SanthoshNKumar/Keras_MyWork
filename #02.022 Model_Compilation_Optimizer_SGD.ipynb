{
 "cells": [
  {
   "cell_type": "code",
   "execution_count": 22,
   "metadata": {},
   "outputs": [],
   "source": [
    "\n",
    "import numpy as np\n",
    "from tensorflow.keras.models import Sequential\n",
    "from tensorflow.keras.layers import Dense,Dropout,Activation\n",
    "from tensorflow.keras.optimizers import SGD\n",
    "from tensorflow.keras.utils import to_categorical\n",
    "\n",
    "\n",
    "# Setup the data\n",
    "x_train = np.random.random((1000, 20)) # 20 input features\n",
    "\n",
    "y_train = to_categorical(np.random.randint(10, size=(1000, 1)), num_classes=10) # 10 Classe\n",
    "\n",
    "x_test = np.random.random((100, 20)) # 20 input features\n",
    "y_test = to_categorical(np.random.randint(10, size=(100, 1)), num_classes=10) # 10 Classes"
   ]
  },
  {
   "cell_type": "code",
   "execution_count": 28,
   "metadata": {},
   "outputs": [
    {
     "name": "stdout",
     "output_type": "stream",
     "text": [
      "Train on 1000 samples\n",
      "Epoch 1/20\n",
      "1000/1000 [==============================] - 0s 92us/sample - loss: 2.4135 - acc: 0.1040\n",
      "Epoch 2/20\n",
      "1000/1000 [==============================] - 0s 14us/sample - loss: 2.3672 - acc: 0.1010\n",
      "Epoch 3/20\n",
      "1000/1000 [==============================] - 0s 16us/sample - loss: 2.3458 - acc: 0.1190\n",
      "Epoch 4/20\n",
      "1000/1000 [==============================] - 0s 16us/sample - loss: 2.3188 - acc: 0.1140\n",
      "Epoch 5/20\n",
      "1000/1000 [==============================] - 0s 16us/sample - loss: 2.3196 - acc: 0.1030\n",
      "Epoch 6/20\n",
      "1000/1000 [==============================] - 0s 12us/sample - loss: 2.3109 - acc: 0.1210\n",
      "Epoch 7/20\n",
      "1000/1000 [==============================] - 0s 14us/sample - loss: 2.3209 - acc: 0.0930\n",
      "Epoch 8/20\n",
      "1000/1000 [==============================] - 0s 13us/sample - loss: 2.3223 - acc: 0.0930\n",
      "Epoch 9/20\n",
      "1000/1000 [==============================] - 0s 16us/sample - loss: 2.3118 - acc: 0.1150\n",
      "Epoch 10/20\n",
      "1000/1000 [==============================] - 0s 12us/sample - loss: 2.3153 - acc: 0.1010\n",
      "Epoch 11/20\n",
      "1000/1000 [==============================] - 0s 12us/sample - loss: 2.2996 - acc: 0.1190\n",
      "Epoch 12/20\n",
      "1000/1000 [==============================] - 0s 16us/sample - loss: 2.3099 - acc: 0.0920\n",
      "Epoch 13/20\n",
      "1000/1000 [==============================] - 0s 17us/sample - loss: 2.3102 - acc: 0.1010\n",
      "Epoch 14/20\n",
      "1000/1000 [==============================] - 0s 14us/sample - loss: 2.3046 - acc: 0.1180\n",
      "Epoch 15/20\n",
      "1000/1000 [==============================] - 0s 16us/sample - loss: 2.2970 - acc: 0.1150\n",
      "Epoch 16/20\n",
      "1000/1000 [==============================] - 0s 16us/sample - loss: 2.3040 - acc: 0.1250\n",
      "Epoch 17/20\n",
      "1000/1000 [==============================] - 0s 16us/sample - loss: 2.2942 - acc: 0.1250\n",
      "Epoch 18/20\n",
      "1000/1000 [==============================] - 0s 16us/sample - loss: 2.2978 - acc: 0.1150\n",
      "Epoch 19/20\n",
      "1000/1000 [==============================] - 0s 16us/sample - loss: 2.2994 - acc: 0.1300\n",
      "Epoch 20/20\n",
      "1000/1000 [==============================] - 0s 14us/sample - loss: 2.2949 - acc: 0.1170\n"
     ]
    },
    {
     "data": {
      "text/plain": [
       "<tensorflow.python.keras.callbacks.History at 0x2225b660a08>"
      ]
     },
     "execution_count": 28,
     "metadata": {},
     "output_type": "execute_result"
    }
   ],
   "source": [
    "\n",
    "# Initialize Model \n",
    "\n",
    "model = Sequential()\n",
    "\n",
    "# Dense(64) is a fully-connected layer with 64 hidden units.\n",
    "# in the first layer, you must specify the expected input data shape:\n",
    "# here, 20-dimensional vectors.\n",
    "\n",
    "model.add(Dense(64,activation='relu',input_dim=20))\n",
    "model.add(Dropout(0.5))\n",
    "model.add(Dense(64,activation='relu'))\n",
    "model.add(Dropout(0.5))\n",
    "model.add(Dense(10,activation='softmax'))\n",
    "\n",
    "sgd = SGD(lr =0.01,decay=1e-6, momentum=0.9, nesterov=True)\n",
    "\n",
    "# Compile Model\n",
    "model.compile(optimizer=sgd,loss='categorical_crossentropy',metrics=['accuracy'])\n",
    "\n",
    "# Train Model\n",
    "model.fit(x_train, y_train,epochs=20,batch_size=128)"
   ]
  },
  {
   "cell_type": "code",
   "execution_count": 29,
   "metadata": {},
   "outputs": [
    {
     "name": "stdout",
     "output_type": "stream",
     "text": [
      "\r",
      "100/100 [==============================] - 0s 347us/sample - loss: 2.2934 - acc: 0.1700\n"
     ]
    }
   ],
   "source": [
    "score = model.evaluate(x_test, y_test, batch_size=128)"
   ]
  },
  {
   "cell_type": "code",
   "execution_count": null,
   "metadata": {},
   "outputs": [],
   "source": []
  }
 ],
 "metadata": {
  "kernelspec": {
   "display_name": "Python 3",
   "language": "python",
   "name": "python3"
  },
  "language_info": {
   "codemirror_mode": {
    "name": "ipython",
    "version": 3
   },
   "file_extension": ".py",
   "mimetype": "text/x-python",
   "name": "python",
   "nbconvert_exporter": "python",
   "pygments_lexer": "ipython3",
   "version": "3.7.4"
  }
 },
 "nbformat": 4,
 "nbformat_minor": 2
}
