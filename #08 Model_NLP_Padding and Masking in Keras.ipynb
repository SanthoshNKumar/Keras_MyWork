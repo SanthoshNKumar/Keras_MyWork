{
 "cells": [
  {
   "cell_type": "code",
   "execution_count": 11,
   "metadata": {},
   "outputs": [],
   "source": [
    "from tensorflow.keras.preprocessing.sequence import pad_sequences\n",
    "\n",
    "from tensorflow.keras import layers"
   ]
  },
  {
   "cell_type": "code",
   "execution_count": 12,
   "metadata": {},
   "outputs": [
    {
     "data": {
      "text/plain": [
       "[[83, 91, 1, 645, 1253, 927], [73, 8, 3215, 55, 927], [71, 1331, 4231]]"
      ]
     },
     "execution_count": 12,
     "metadata": {},
     "output_type": "execute_result"
    }
   ],
   "source": [
    "# Padding sequence data\n",
    "# When processing sequence data, it is very common for individual samples to have different lengths. \n",
    "# Consider the following example (text tokenized as words):\n",
    "\n",
    "[\n",
    "  [\"The\", \"weather\", \"will\", \"be\", \"nice\", \"tomorrow\"],\n",
    "  [\"How\", \"are\", \"you\", \"doing\", \"today\"],\n",
    "  [\"Hello\", \"world\", \"!\"]\n",
    "]\n",
    "\n",
    "\n",
    "# After vocabulary lookup, the data might be vectorized as integers, e.g.:\n",
    "\n",
    "[\n",
    "  [83, 91, 1, 645, 1253, 927],\n",
    "  [73, 8, 3215, 55, 927],\n",
    "  [71, 1331, 4231]\n",
    "]"
   ]
  },
  {
   "cell_type": "code",
   "execution_count": 13,
   "metadata": {},
   "outputs": [
    {
     "name": "stdout",
     "output_type": "stream",
     "text": [
      "[[  83   91    1  645 1253  927]\n",
      " [  73    8 3215   55  927    0]\n",
      " [ 711  632   71    0    0    0]]\n"
     ]
    }
   ],
   "source": [
    "# The data is a 2D list where individual samples have length 6, 5, and 3 respectively. \n",
    "# Since the input data for a deep learning model must be a single tensor\n",
    "\n",
    "# Keras provides an API to easily truncate and pad sequences to a common length:\n",
    "# tf.keras.preprocessing.sequence.pad_sequences.\n",
    "\n",
    "raw_inputs = [\n",
    "              [83, 91, 1, 645, 1253, 927],\n",
    "              [73, 8, 3215, 55, 927],\n",
    "              [711, 632, 71]\n",
    "             ]\n",
    "\n",
    "\n",
    "# By default, this will pad using 0s; it is configurable via the\n",
    "# Note that you could \"pre\" padding (at the beginning) or \"post\" padding (at the end).\n",
    "# We recommend using \"post\" padding when working with RNN layers\n",
    "# \n",
    "\n",
    "padded_inputs = pad_sequences(raw_inputs,padding='post')\n",
    "\n",
    "\n",
    "print(padded_inputs)"
   ]
  },
  {
   "cell_type": "code",
   "execution_count": 14,
   "metadata": {},
   "outputs": [],
   "source": [
    "# Masking : Now that all samples have a uniform length, the model must be informed that some part of \n",
    "# the data is actually padding and should be ignored. That mechanism is masking.\n",
    "\n",
    "# There are three ways to introduce input masks in Keras models:\n",
    "# 1. Add a keras.layers.Masking laye\n",
    "# 2. Configure a keras.layers.Embedding layer with mask_zero=True.\n",
    "# 3. Pass a mask argument manually when calling layers that support this argument (e.g. RNN layers)"
   ]
  },
  {
   "cell_type": "code",
   "execution_count": 29,
   "metadata": {},
   "outputs": [
    {
     "name": "stdout",
     "output_type": "stream",
     "text": [
      "Tensor(\"embedding_12/NotEqual:0\", shape=(3, 6), dtype=bool)\n"
     ]
    }
   ],
   "source": [
    "# 1 .Mask-generating layers: Embedding and Masking\n",
    "\n",
    "embedding  = layers.Embedding(input_dim=1000,output_dim=16,mask_zero=True)\n",
    "masked_output = embedding(padded_inputs)\n",
    "\n",
    "print(masked_output._keras_mask)"
   ]
  },
  {
   "cell_type": "code",
   "execution_count": null,
   "metadata": {},
   "outputs": [],
   "source": []
  },
  {
   "cell_type": "code",
   "execution_count": null,
   "metadata": {},
   "outputs": [],
   "source": []
  }
 ],
 "metadata": {
  "kernelspec": {
   "display_name": "Python 3",
   "language": "python",
   "name": "python3"
  },
  "language_info": {
   "codemirror_mode": {
    "name": "ipython",
    "version": 3
   },
   "file_extension": ".py",
   "mimetype": "text/x-python",
   "name": "python",
   "nbconvert_exporter": "python",
   "pygments_lexer": "ipython3",
   "version": "3.7.4"
  }
 },
 "nbformat": 4,
 "nbformat_minor": 2
}
