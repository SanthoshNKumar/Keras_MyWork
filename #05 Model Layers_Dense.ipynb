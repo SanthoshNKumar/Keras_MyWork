{
 "cells": [
  {
   "cell_type": "code",
   "execution_count": 4,
   "metadata": {},
   "outputs": [],
   "source": [
    "from tensorflow.keras.models import Sequential\n",
    "from tensorflow.keras.layers import Dense\n",
    "\n",
    "model = Sequential()"
   ]
  },
  {
   "cell_type": "code",
   "execution_count": 5,
   "metadata": {},
   "outputs": [],
   "source": [
    "# Dense implements the operation: o\n",
    "# Output = activation(dot(input, kernel) + bias) where activation is the element-wise activation function \n",
    "# passed as the activation argument, kernel is a weights matrix created by the layer, and bias is \n",
    "# a bias vector created by the layer (only applicable if use_bias is True).\n"
   ]
  },
  {
   "cell_type": "code",
   "execution_count": 7,
   "metadata": {},
   "outputs": [],
   "source": [
    "# as first layer in a sequential model:\n",
    "model = Sequential()\n",
    "model.add(Dense(32, input_shape=(16,)))\n",
    "# now the model will take as input arrays of shape (*, 16)\n",
    "# and output arrays of shape (*, 32)\n",
    "\n",
    "# after the first layer, you don't need to specify\n",
    "# the size of the input anymore:\n",
    "model.add(Dense(32))\n"
   ]
  },
  {
   "cell_type": "code",
   "execution_count": null,
   "metadata": {},
   "outputs": [],
   "source": [
    "# Arguments\n",
    " # 1. Units : Positive integer, dimensionality of the output space\n",
    " # 2. Activation: Activation function to use. If you don't specify anything, no activation is applied (ie. \"linear\" activation: a(x) = x).\n",
    " # 3. use_bias: Boolean, whether the layer uses a bias vector.\n",
    " # 4. kernel_initializer: Initializer for the kernel weights matrix.\n",
    " # 5. bias_initializer: Initializer for the bias vector.\n",
    " # 6. kernel_regularizer: Regularizer function applied to the kernel weights matrix.\n",
    " # 7. bias_regularizer: Regularizer function applied to the bias vector.\n",
    " # 8. activity_regularizer: Regularizer function applied to the output of the layer (its \"activation\")..\n",
    " # 9. kernel_constraint: Constraint function applied to the kernel weights matrix.\n",
    " # 10.bias_constraint: Constraint function applied to the bias vector."
   ]
  }
 ],
 "metadata": {
  "kernelspec": {
   "display_name": "Python 3",
   "language": "python",
   "name": "python3"
  },
  "language_info": {
   "codemirror_mode": {
    "name": "ipython",
    "version": 3
   },
   "file_extension": ".py",
   "mimetype": "text/x-python",
   "name": "python",
   "nbconvert_exporter": "python",
   "pygments_lexer": "ipython3",
   "version": "3.7.4"
  }
 },
 "nbformat": 4,
 "nbformat_minor": 2
}
