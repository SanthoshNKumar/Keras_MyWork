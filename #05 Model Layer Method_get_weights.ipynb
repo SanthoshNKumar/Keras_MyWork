{
 "cells": [
  {
   "cell_type": "code",
   "execution_count": 2,
   "metadata": {},
   "outputs": [],
   "source": [
    "from tensorflow.keras.models import Sequential\n",
    "from tensorflow.keras import layers\n"
   ]
  },
  {
   "cell_type": "code",
   "execution_count": 3,
   "metadata": {},
   "outputs": [
    {
     "name": "stdout",
     "output_type": "stream",
     "text": [
      "WARNING:tensorflow:From c:\\users\\insakum46\\appdata\\local\\programs\\python\\python37\\lib\\site-packages\\tensorflow_core\\python\\ops\\resource_variable_ops.py:1630: calling BaseResourceVariable.__init__ (from tensorflow.python.ops.resource_variable_ops) with constraint is deprecated and will be removed in a future version.\n",
      "Instructions for updating:\n",
      "If using Keras pass *_constraint arguments to layers.\n",
      "(8, 16)\n"
     ]
    },
    {
     "data": {
      "text/plain": [
       "[array([[-0.45788658, -0.15685368, -0.01162231, -0.29351246, -0.48305488,\n",
       "          0.01354074, -0.4216131 ,  0.39986932, -0.25910592, -0.13197422,\n",
       "         -0.37142193,  0.10277522,  0.11979461, -0.22695899, -0.41233122,\n",
       "          0.20759714],\n",
       "        [-0.21983624, -0.16180718, -0.0550034 ,  0.12970495, -0.12673163,\n",
       "          0.06158769, -0.20026875, -0.07556093, -0.14540184,  0.3974905 ,\n",
       "          0.09390724, -0.18283069,  0.02642632, -0.33974743,  0.42004085,\n",
       "         -0.00397027],\n",
       "        [-0.39030254,  0.4990363 ,  0.14318001, -0.076859  , -0.2986809 ,\n",
       "          0.44623923, -0.2317524 , -0.37215698,  0.24598086, -0.19600046,\n",
       "          0.01809871, -0.0226928 ,  0.2436378 , -0.47988546, -0.37373996,\n",
       "         -0.02345395],\n",
       "        [-0.08997715, -0.10699713, -0.13262677, -0.4025569 , -0.31721783,\n",
       "         -0.3182069 , -0.35414946, -0.38586533, -0.12121475,  0.2172854 ,\n",
       "         -0.02979577,  0.42814267, -0.10303104,  0.4980476 ,  0.34580123,\n",
       "          0.00252199],\n",
       "        [ 0.34829068, -0.18467808, -0.45188105,  0.42730844,  0.13479269,\n",
       "         -0.23735213, -0.11224222,  0.09550524, -0.31819844, -0.46494007,\n",
       "          0.04804265,  0.48391604,  0.15887797,  0.2973981 ,  0.19612873,\n",
       "         -0.29413533],\n",
       "        [-0.31206286,  0.1312604 , -0.4336784 ,  0.42815483,  0.31419444,\n",
       "         -0.29743886, -0.00153732,  0.08392739,  0.20134759, -0.11947715,\n",
       "         -0.46455574,  0.34837663, -0.06464398, -0.46507347,  0.33235478,\n",
       "         -0.14130127],\n",
       "        [ 0.07622623,  0.45189738, -0.06041312,  0.3971666 , -0.41540873,\n",
       "          0.03125751, -0.3213303 , -0.11818302, -0.38771975,  0.19260406,\n",
       "         -0.1694634 ,  0.37937176, -0.38861978,  0.01854265,  0.39664698,\n",
       "         -0.16697192],\n",
       "        [ 0.42552495,  0.11813879, -0.14507377,  0.06024456,  0.03416657,\n",
       "         -0.45385027, -0.475757  , -0.10433447, -0.24456489, -0.09013355,\n",
       "          0.4950031 , -0.21639478, -0.04671204, -0.00625992,  0.01737952,\n",
       "         -0.17139935]], dtype=float32),\n",
       " array([0., 0., 0., 0., 0., 0., 0., 0., 0., 0., 0., 0., 0., 0., 0., 0.],\n",
       "       dtype=float32)]"
      ]
     },
     "execution_count": 3,
     "metadata": {},
     "output_type": "execute_result"
    }
   ],
   "source": [
    "model = Sequential()\n",
    "\n",
    "# Input = 8 and units at Hidden layer = 16\n",
    "layer_1 = layers.Dense(16,input_shape=(8,))\n",
    "\n",
    "model.add(layer_1)\n",
    "\n",
    "print(layer_1.get_weights()[0].shape)\n",
    "\n",
    "# Below array u can observe weights of 16 length weights for 8 units and 1 one of 16 units its Bias\n",
    "layer_1.get_weights()"
   ]
  },
  {
   "cell_type": "code",
   "execution_count": 4,
   "metadata": {},
   "outputs": [
    {
     "data": {
      "text/plain": [
       "array([-0.45788658, -0.15685368, -0.01162231, -0.29351246, -0.48305488,\n",
       "        0.01354074, -0.4216131 ,  0.39986932, -0.25910592, -0.13197422,\n",
       "       -0.37142193,  0.10277522,  0.11979461, -0.22695899, -0.41233122,\n",
       "        0.20759714], dtype=float32)"
      ]
     },
     "execution_count": 4,
     "metadata": {},
     "output_type": "execute_result"
    }
   ],
   "source": [
    "layer_1.get_weights()[0][0]"
   ]
  },
  {
   "cell_type": "code",
   "execution_count": null,
   "metadata": {},
   "outputs": [],
   "source": []
  }
 ],
 "metadata": {
  "kernelspec": {
   "display_name": "Python 3",
   "language": "python",
   "name": "python3"
  },
  "language_info": {
   "codemirror_mode": {
    "name": "ipython",
    "version": 3
   },
   "file_extension": ".py",
   "mimetype": "text/x-python",
   "name": "python",
   "nbconvert_exporter": "python",
   "pygments_lexer": "ipython3",
   "version": "3.7.4"
  }
 },
 "nbformat": 4,
 "nbformat_minor": 2
}
