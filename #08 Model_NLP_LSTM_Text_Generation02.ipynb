{
 "cells": [
  {
   "cell_type": "code",
   "execution_count": 2,
   "metadata": {},
   "outputs": [],
   "source": [
    "values = ['My name is Santhosh','What is Your name','Where are you come from','Where are you going','Where are you staying','What are you doing']"
   ]
  },
  {
   "cell_type": "code",
   "execution_count": 38,
   "metadata": {},
   "outputs": [],
   "source": [
    "import pandas as pd\n",
    "import string\n",
    "\n",
    "dataset = pd.DataFrame(values,columns=['values'])\n",
    "\n",
    "v = dataset.values"
   ]
  },
  {
   "cell_type": "code",
   "execution_count": 39,
   "metadata": {},
   "outputs": [],
   "source": [
    "def clean_text(txt):\n",
    "    txt = \"\".join(v for v in txt if v not in string.punctuation).lower()\n",
    "    txt = txt.encode(\"utf8\").decode(\"ascii\",'ignore')\n",
    "    return txt "
   ]
  },
  {
   "cell_type": "code",
   "execution_count": 41,
   "metadata": {},
   "outputs": [
    {
     "data": {
      "text/plain": [
       "['my name is santhosh',\n",
       " 'what is your name',\n",
       " 'where are you come from',\n",
       " 'where are you going',\n",
       " 'where are you staying',\n",
       " 'what are you doing']"
      ]
     },
     "execution_count": 41,
     "metadata": {},
     "output_type": "execute_result"
    }
   ],
   "source": [
    "corpus = [clean_text(x) for x in v]\n"
   ]
  },
  {
   "cell_type": "code",
   "execution_count": 88,
   "metadata": {},
   "outputs": [
    {
     "data": {
      "text/plain": [
       "{'are': 1,\n",
       " 'you': 2,\n",
       " 'where': 3,\n",
       " 'name': 4,\n",
       " 'is': 5,\n",
       " 'what': 6,\n",
       " 'my': 7,\n",
       " 'santhosh': 8,\n",
       " 'your': 9,\n",
       " 'come': 10,\n",
       " 'from': 11,\n",
       " 'going': 12,\n",
       " 'staying': 13,\n",
       " 'doing': 14}"
      ]
     },
     "execution_count": 88,
     "metadata": {},
     "output_type": "execute_result"
    }
   ],
   "source": [
    "from tensorflow.keras.preprocessing.text import Tokenizer\n",
    "\n",
    "tokenizer = Tokenizer()\n",
    "\n",
    "tokenizer.fit_on_texts(corpus)\n",
    "\n",
    "tokenizer.word_index"
   ]
  },
  {
   "cell_type": "code",
   "execution_count": null,
   "metadata": {},
   "outputs": [],
   "source": [
    "def get_sequence_of_tokens(corpus):\n",
    "    \n",
    "    # tokenization\n",
    "    tokenizer.fit_on_texts(corpus)\n",
    "    total_words = len(tokenizer.word_index) + 1\n",
    "    print(\"total_words =\",total_words)\n",
    "    \n",
    "     ## convert data to sequence of tokens \n",
    "    input_sequences = []\n",
    "    input_sequences = []\n",
    "    for line in corpus:\n",
    "        token_list = tokenizer.texts_to_sequences([line])[0]\n",
    "        for i in range(1, len(token_list)):\n",
    "            n_gram_sequence = token_list[:i+1]\n",
    "            input_sequences.append(n_gram_sequence)\n",
    "    return input_sequences, total_words"
   ]
  },
  {
   "cell_type": "code",
   "execution_count": 71,
   "metadata": {},
   "outputs": [
    {
     "name": "stdout",
     "output_type": "stream",
     "text": [
      "total_words = 15\n"
     ]
    }
   ],
   "source": [
    "inp_sequences , total_words = get_sequence_of_tokens(corpus)"
   ]
  },
  {
   "cell_type": "code",
   "execution_count": 96,
   "metadata": {},
   "outputs": [],
   "source": [
    "from tensorflow.keras.preprocessing.sequence import pad_sequences\n",
    "import numpy as np\n",
    "from tensorflow.keras.utils import to_categorical\n",
    "\n",
    "def generate_padded_sequences(input_sequences):\n",
    "    max_sequence_len = max([len(x) for x in input_sequences])\n",
    "    input_sequences = np.array(pad_sequences(input_sequences, maxlen=max_sequence_len, padding='pre'))\n",
    "    \n",
    "    predictors, label = input_sequences[:,:-1],input_sequences[:,-1]\n",
    "    label = to_categorical(label, num_classes=total_words)\n",
    "    return predictors, label, max_sequence_len\n"
   ]
  },
  {
   "cell_type": "code",
   "execution_count": 97,
   "metadata": {},
   "outputs": [],
   "source": [
    "predictors, label, max_sequence_len = generate_padded_sequences(inp_sequences)"
   ]
  },
  {
   "cell_type": "code",
   "execution_count": 102,
   "metadata": {},
   "outputs": [],
   "source": [
    "from tensorflow.keras.models import Sequential\n",
    "from tensorflow.keras.layers import Dense,LSTM,Embedding,Dropout\n",
    "\n",
    "\n",
    "def create_model(max_sequence_len, total_words):\n",
    "    input_len = max_sequence_len - 1\n",
    "    model = Sequential()\n",
    "    \n",
    "    # Add Input Embedding Layer\n",
    "    model.add(Embedding(total_words, 10, input_length=input_len))\n",
    "    \n",
    "    # Add Hidden Layer 1 - LSTM Layer\n",
    "    model.add(LSTM(100))\n",
    "    model.add(Dropout(0.1))\n",
    "    \n",
    "    # Add Output Layer\n",
    "    model.add(Dense(total_words, activation='softmax'))\n",
    "\n",
    "    model.compile(loss='categorical_crossentropy', optimizer='adam')\n",
    "    \n",
    "    return model"
   ]
  },
  {
   "cell_type": "code",
   "execution_count": 103,
   "metadata": {},
   "outputs": [
    {
     "name": "stdout",
     "output_type": "stream",
     "text": [
      "WARNING:tensorflow:From c:\\users\\insakum46\\appdata\\local\\programs\\python\\python36\\lib\\site-packages\\tensorflow\\python\\ops\\resource_variable_ops.py:435: colocate_with (from tensorflow.python.framework.ops) is deprecated and will be removed in a future version.\n",
      "Instructions for updating:\n",
      "Colocations handled automatically by placer.\n",
      "WARNING:tensorflow:From c:\\users\\insakum46\\appdata\\local\\programs\\python\\python36\\lib\\site-packages\\tensorflow\\python\\keras\\layers\\core.py:143: calling dropout (from tensorflow.python.ops.nn_ops) with keep_prob is deprecated and will be removed in a future version.\n",
      "Instructions for updating:\n",
      "Please use `rate` instead of `keep_prob`. Rate should be set to `rate = 1 - keep_prob`.\n",
      "_________________________________________________________________\n",
      "Layer (type)                 Output Shape              Param #   \n",
      "=================================================================\n",
      "embedding (Embedding)        (None, 4, 10)             150       \n",
      "_________________________________________________________________\n",
      "lstm (LSTM)                  (None, 100)               44400     \n",
      "_________________________________________________________________\n",
      "dropout (Dropout)            (None, 100)               0         \n",
      "_________________________________________________________________\n",
      "dense (Dense)                (None, 15)                1515      \n",
      "=================================================================\n",
      "Total params: 46,065\n",
      "Trainable params: 46,065\n",
      "Non-trainable params: 0\n",
      "_________________________________________________________________\n"
     ]
    }
   ],
   "source": [
    "model = create_model(max_sequence_len, total_words)\n",
    "model.summary()"
   ]
  },
  {
   "cell_type": "code",
   "execution_count": 107,
   "metadata": {},
   "outputs": [
    {
     "name": "stdout",
     "output_type": "stream",
     "text": [
      "Epoch 1/100\n",
      " - 0s - loss: 1.3392\n",
      "Epoch 2/100\n",
      " - 0s - loss: 1.2475\n",
      "Epoch 3/100\n",
      " - 0s - loss: 1.2630\n",
      "Epoch 4/100\n",
      " - 0s - loss: 1.3205\n",
      "Epoch 5/100\n",
      " - 0s - loss: 1.1498\n",
      "Epoch 6/100\n",
      " - 0s - loss: 1.2773\n",
      "Epoch 7/100\n",
      " - 0s - loss: 1.1871\n",
      "Epoch 8/100\n",
      " - 0s - loss: 1.1944\n",
      "Epoch 9/100\n",
      " - 0s - loss: 1.1526\n",
      "Epoch 10/100\n",
      " - 0s - loss: 1.0374\n",
      "Epoch 11/100\n",
      " - 0s - loss: 1.1208\n",
      "Epoch 12/100\n",
      " - 0s - loss: 1.1468\n",
      "Epoch 13/100\n",
      " - 0s - loss: 1.0576\n",
      "Epoch 14/100\n",
      " - 0s - loss: 1.0722\n",
      "Epoch 15/100\n",
      " - 0s - loss: 1.0595\n",
      "Epoch 16/100\n",
      " - 0s - loss: 1.0296\n",
      "Epoch 17/100\n",
      " - 0s - loss: 1.0204\n",
      "Epoch 18/100\n",
      " - 0s - loss: 1.0028\n",
      "Epoch 19/100\n",
      " - 0s - loss: 1.0137\n",
      "Epoch 20/100\n",
      " - 0s - loss: 1.0025\n",
      "Epoch 21/100\n",
      " - 0s - loss: 0.9449\n",
      "Epoch 22/100\n",
      " - 0s - loss: 0.9650\n",
      "Epoch 23/100\n",
      " - 0s - loss: 0.9063\n",
      "Epoch 24/100\n",
      " - 0s - loss: 0.9234\n",
      "Epoch 25/100\n",
      " - 0s - loss: 0.8728\n",
      "Epoch 26/100\n",
      " - 0s - loss: 0.9631\n",
      "Epoch 27/100\n",
      " - 0s - loss: 0.8723\n",
      "Epoch 28/100\n",
      " - 0s - loss: 0.9627\n",
      "Epoch 29/100\n",
      " - 0s - loss: 0.8622\n",
      "Epoch 30/100\n",
      " - 0s - loss: 0.8972\n",
      "Epoch 31/100\n",
      " - 0s - loss: 0.8815\n",
      "Epoch 32/100\n",
      " - 0s - loss: 0.8348\n",
      "Epoch 33/100\n",
      " - 0s - loss: 0.8823\n",
      "Epoch 34/100\n",
      " - 0s - loss: 0.7345\n",
      "Epoch 35/100\n",
      " - 0s - loss: 0.8450\n",
      "Epoch 36/100\n",
      " - 0s - loss: 0.8238\n",
      "Epoch 37/100\n",
      " - 0s - loss: 0.8233\n",
      "Epoch 38/100\n",
      " - 0s - loss: 0.8309\n",
      "Epoch 39/100\n",
      " - 0s - loss: 0.7491\n",
      "Epoch 40/100\n",
      " - 0s - loss: 0.7492\n",
      "Epoch 41/100\n",
      " - 0s - loss: 0.8133\n",
      "Epoch 42/100\n",
      " - 0s - loss: 0.7737\n",
      "Epoch 43/100\n",
      " - 0s - loss: 0.7926\n",
      "Epoch 44/100\n",
      " - 0s - loss: 0.6878\n",
      "Epoch 45/100\n",
      " - 0s - loss: 0.7104\n",
      "Epoch 46/100\n",
      " - 0s - loss: 0.7171\n",
      "Epoch 47/100\n",
      " - 0s - loss: 0.6932\n",
      "Epoch 48/100\n",
      " - 0s - loss: 0.8077\n",
      "Epoch 49/100\n",
      " - 0s - loss: 0.7616\n",
      "Epoch 50/100\n",
      " - 0s - loss: 0.7442\n",
      "Epoch 51/100\n",
      " - 0s - loss: 0.7215\n",
      "Epoch 52/100\n",
      " - 0s - loss: 0.7058\n",
      "Epoch 53/100\n",
      " - 0s - loss: 0.7084\n",
      "Epoch 54/100\n",
      " - 0s - loss: 0.7010\n",
      "Epoch 55/100\n",
      " - 0s - loss: 0.6459\n",
      "Epoch 56/100\n",
      " - 0s - loss: 0.7288\n",
      "Epoch 57/100\n",
      " - 0s - loss: 0.5734\n",
      "Epoch 58/100\n",
      " - 0s - loss: 0.6369\n",
      "Epoch 59/100\n",
      " - 0s - loss: 0.7401\n",
      "Epoch 60/100\n",
      " - 0s - loss: 0.6678\n",
      "Epoch 61/100\n",
      " - 0s - loss: 0.6074\n",
      "Epoch 62/100\n",
      " - 0s - loss: 0.6439\n",
      "Epoch 63/100\n",
      " - 0s - loss: 0.6011\n",
      "Epoch 64/100\n",
      " - 0s - loss: 0.6026\n",
      "Epoch 65/100\n",
      " - 0s - loss: 0.6428\n",
      "Epoch 66/100\n",
      " - 0s - loss: 0.5944\n",
      "Epoch 67/100\n",
      " - 0s - loss: 0.6545\n",
      "Epoch 68/100\n",
      " - 0s - loss: 0.6117\n",
      "Epoch 69/100\n",
      " - 0s - loss: 0.5433\n",
      "Epoch 70/100\n",
      " - 0s - loss: 0.5505\n",
      "Epoch 71/100\n",
      " - 0s - loss: 0.5702\n",
      "Epoch 72/100\n",
      " - 0s - loss: 0.5882\n",
      "Epoch 73/100\n",
      " - 0s - loss: 0.6076\n",
      "Epoch 74/100\n",
      " - 0s - loss: 0.5423\n",
      "Epoch 75/100\n",
      " - 0s - loss: 0.5946\n",
      "Epoch 76/100\n",
      " - 0s - loss: 0.5581\n",
      "Epoch 77/100\n",
      " - 0s - loss: 0.4569\n",
      "Epoch 78/100\n",
      " - 0s - loss: 0.5472\n",
      "Epoch 79/100\n",
      " - 0s - loss: 0.4571\n",
      "Epoch 80/100\n",
      " - 0s - loss: 0.6249\n",
      "Epoch 81/100\n",
      " - 0s - loss: 0.5257\n",
      "Epoch 82/100\n",
      " - 0s - loss: 0.5036\n",
      "Epoch 83/100\n",
      " - 0s - loss: 0.5137\n",
      "Epoch 84/100\n",
      " - 0s - loss: 0.5636\n",
      "Epoch 85/100\n",
      " - 0s - loss: 0.5093\n",
      "Epoch 86/100\n",
      " - 0s - loss: 0.5032\n",
      "Epoch 87/100\n",
      " - 0s - loss: 0.5357\n",
      "Epoch 88/100\n",
      " - 0s - loss: 0.4928\n",
      "Epoch 89/100\n",
      " - 0s - loss: 0.4472\n",
      "Epoch 90/100\n",
      " - 0s - loss: 0.4715\n",
      "Epoch 91/100\n",
      " - 0s - loss: 0.5275\n",
      "Epoch 92/100\n",
      " - 0s - loss: 0.4988\n",
      "Epoch 93/100\n",
      " - 0s - loss: 0.5584\n",
      "Epoch 94/100\n",
      " - 0s - loss: 0.4770\n",
      "Epoch 95/100\n",
      " - 0s - loss: 0.4313\n",
      "Epoch 96/100\n",
      " - 0s - loss: 0.4879\n",
      "Epoch 97/100\n",
      " - 0s - loss: 0.5386\n",
      "Epoch 98/100\n",
      " - 0s - loss: 0.4211\n",
      "Epoch 99/100\n",
      " - 0s - loss: 0.4842\n",
      "Epoch 100/100\n",
      " - 0s - loss: 0.4883\n"
     ]
    },
    {
     "data": {
      "text/plain": [
       "<tensorflow.python.keras.callbacks.History at 0x1f487710>"
      ]
     },
     "execution_count": 107,
     "metadata": {},
     "output_type": "execute_result"
    }
   ],
   "source": [
    "model.fit(predictors, label, epochs=100, verbose=2)"
   ]
  },
  {
   "cell_type": "code",
   "execution_count": 105,
   "metadata": {},
   "outputs": [],
   "source": [
    "def generate_text(seed_text, next_words, model, max_sequence_len):\n",
    "    for _ in range(next_words):\n",
    "        token_list = tokenizer.texts_to_sequences([seed_text])[0]\n",
    "        token_list = pad_sequences([token_list], maxlen=max_sequence_len-1, padding='pre')\n",
    "        predicted = model.predict_classes(token_list, verbose=0)\n",
    "        \n",
    "        output_word = \"\"\n",
    "        for word,index in tokenizer.word_index.items():\n",
    "            if index == predicted:\n",
    "                output_word = word\n",
    "                break\n",
    "        seed_text += \" \"+output_word\n",
    "    return seed_text.title()"
   ]
  },
  {
   "cell_type": "code",
   "execution_count": 112,
   "metadata": {},
   "outputs": [
    {
     "name": "stdout",
     "output_type": "stream",
     "text": [
      "You Are You\n"
     ]
    }
   ],
   "source": [
    "print(generate_text(\"you\", 2, model, max_sequence_len))"
   ]
  },
  {
   "cell_type": "code",
   "execution_count": null,
   "metadata": {},
   "outputs": [],
   "source": []
  }
 ],
 "metadata": {
  "kernelspec": {
   "display_name": "Python 3",
   "language": "python",
   "name": "python3"
  },
  "language_info": {
   "codemirror_mode": {
    "name": "ipython",
    "version": 3
   },
   "file_extension": ".py",
   "mimetype": "text/x-python",
   "name": "python",
   "nbconvert_exporter": "python",
   "pygments_lexer": "ipython3",
   "version": "3.7.4"
  }
 },
 "nbformat": 4,
 "nbformat_minor": 2
}
