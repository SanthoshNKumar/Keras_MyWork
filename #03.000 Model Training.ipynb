{
 "cells": [
  {
   "cell_type": "code",
   "execution_count": 1,
   "metadata": {},
   "outputs": [],
   "source": [
    "# Training\n",
    "\n",
    "# Keras models are trained on Numpy arrays of input data and labels. For training a model, \n",
    "# you will typically use the fit function. \n"
   ]
  },
  {
   "cell_type": "code",
   "execution_count": 4,
   "metadata": {},
   "outputs": [],
   "source": [
    "from tensorflow.keras.models import Sequential\n",
    "from tensorflow.keras.layers import Dense"
   ]
  },
  {
   "cell_type": "code",
   "execution_count": 7,
   "metadata": {},
   "outputs": [
    {
     "name": "stdout",
     "output_type": "stream",
     "text": [
      "Train on 1000 samples\n",
      "Epoch 1/10\n",
      "1000/1000 [==============================] - 0s 82us/sample - loss: 0.7059 - acc: 0.5110\n",
      "Epoch 2/10\n",
      "1000/1000 [==============================] - ETA: 0s - loss: 0.7233 - acc: 0.468 - 0s 27us/sample - loss: 0.6980 - acc: 0.5230\n",
      "Epoch 3/10\n",
      "1000/1000 [==============================] - 0s 28us/sample - loss: 0.6925 - acc: 0.5370\n",
      "Epoch 4/10\n",
      "1000/1000 [==============================] - 0s 28us/sample - loss: 0.6871 - acc: 0.5560\n",
      "Epoch 5/10\n",
      "1000/1000 [==============================] - 0s 28us/sample - loss: 0.6860 - acc: 0.5470\n",
      "Epoch 6/10\n",
      "1000/1000 [==============================] - 0s 28us/sample - loss: 0.6815 - acc: 0.5530\n",
      "Epoch 7/10\n",
      "1000/1000 [==============================] - 0s 28us/sample - loss: 0.6773 - acc: 0.5900\n",
      "Epoch 8/10\n",
      "1000/1000 [==============================] - 0s 32us/sample - loss: 0.6754 - acc: 0.5700\n",
      "Epoch 9/10\n",
      "1000/1000 [==============================] - 0s 29us/sample - loss: 0.6724 - acc: 0.6010\n",
      "Epoch 10/10\n",
      "1000/1000 [==============================] - 0s 32us/sample - loss: 0.6702 - acc: 0.5690\n"
     ]
    },
    {
     "data": {
      "text/plain": [
       "<tensorflow.python.keras.callbacks.History at 0x15e10cbac88>"
      ]
     },
     "execution_count": 7,
     "metadata": {},
     "output_type": "execute_result"
    }
   ],
   "source": [
    "# Example : 1  For a single-input model with 2 classes (binary classification):\n",
    "\n",
    "# Generate dummy data\n",
    "import numpy as np\n",
    "data = np.random.random((1000, 100))\n",
    "labels = np.random.randint(2, size=(1000, 1))\n",
    "\n",
    "#  Model Initilization\n",
    "model = Sequential()\n",
    "\n",
    "# Addling Model Layers\n",
    "model.add(Dense(32,activation='relu',input_dim=100))\n",
    "model.add(Dense(1,activation='sigmoid'))\n",
    "\n",
    "# Compile Model\n",
    "model.compile(optimizer = 'rmsprop',loss='binary_crossentropy',metrics = ['accuracy'])\n",
    "\n",
    "# Train the model, iterating on the data in batches of 32 samples\n",
    "model.fit(data, labels, epochs=10, batch_size=32)"
   ]
  },
  {
   "cell_type": "code",
   "execution_count": 10,
   "metadata": {},
   "outputs": [
    {
     "name": "stdout",
     "output_type": "stream",
     "text": [
      "Train on 1000 samples\n",
      "Epoch 1/10\n",
      "1000/1000 [==============================] - ETA: 1s - loss: 2.3901 - acc: 0.062 - 0s 85us/sample - loss: 2.3480 - acc: 0.0890\n",
      "Epoch 2/10\n",
      "1000/1000 [==============================] - 0s 28us/sample - loss: 2.3154 - acc: 0.1030\n",
      "Epoch 3/10\n",
      "1000/1000 [==============================] - 0s 28us/sample - loss: 2.3012 - acc: 0.1260\n",
      "Epoch 4/10\n",
      "1000/1000 [==============================] - 0s 28us/sample - loss: 2.2897 - acc: 0.1240\n",
      "Epoch 5/10\n",
      "1000/1000 [==============================] - 0s 24us/sample - loss: 2.2832 - acc: 0.1270\n",
      "Epoch 6/10\n",
      "1000/1000 [==============================] - 0s 28us/sample - loss: 2.2770 - acc: 0.1480\n",
      "Epoch 7/10\n",
      "1000/1000 [==============================] - ETA: 0s - loss: 2.2302 - acc: 0.218 - 0s 31us/sample - loss: 2.2683 - acc: 0.1410\n",
      "Epoch 8/10\n",
      "1000/1000 [==============================] - 0s 27us/sample - loss: 2.2607 - acc: 0.1490\n",
      "Epoch 9/10\n",
      "1000/1000 [==============================] - 0s 28us/sample - loss: 2.2503 - acc: 0.1680\n",
      "Epoch 10/10\n",
      "1000/1000 [==============================] - 0s 24us/sample - loss: 2.2412 - acc: 0.1680\n"
     ]
    },
    {
     "data": {
      "text/plain": [
       "<tensorflow.python.keras.callbacks.History at 0x15e145c6a48>"
      ]
     },
     "execution_count": 10,
     "metadata": {},
     "output_type": "execute_result"
    }
   ],
   "source": [
    "# Example 2: # For a single-input model with 10 classes (categorical classification):\n",
    "\n",
    "from tensorflow.keras.utils import to_categorical\n",
    "\n",
    "data = np.random.random((1000, 100))\n",
    "labels = np.random.randint(10, size=(1000, 1))\n",
    "\n",
    "# Convert labels to categorical one-hot encoding\n",
    "one_hot_labels = to_categorical(labels, num_classes=10)\n",
    "\n",
    "\n",
    "# Model Initialization\n",
    "model = Sequential()\n",
    "\n",
    "# Add Model layers\n",
    "model.add(Dense(32,activation='relu',input_dim=100))\n",
    "model.add(Dense(10,activation='softmax'))\n",
    "\n",
    "# Compile\n",
    "model.compile(optimizer='rmsprop',loss='categorical_crossentropy',metrics=['accuracy'])\n",
    "\n",
    "# Train the model, iterating on the data in batches of 32 samples\n",
    "model.fit(data, one_hot_labels, epochs=10, batch_size=32)"
   ]
  },
  {
   "cell_type": "code",
   "execution_count": null,
   "metadata": {},
   "outputs": [],
   "source": []
  }
 ],
 "metadata": {
  "kernelspec": {
   "display_name": "Python 3",
   "language": "python",
   "name": "python3"
  },
  "language_info": {
   "codemirror_mode": {
    "name": "ipython",
    "version": 3
   },
   "file_extension": ".py",
   "mimetype": "text/x-python",
   "name": "python",
   "nbconvert_exporter": "python",
   "pygments_lexer": "ipython3",
   "version": "3.7.4"
  }
 },
 "nbformat": 4,
 "nbformat_minor": 2
}
