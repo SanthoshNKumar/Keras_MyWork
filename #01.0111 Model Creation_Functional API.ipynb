{
 "cells": [
  {
   "cell_type": "code",
   "execution_count": 7,
   "metadata": {},
   "outputs": [],
   "source": [
    "# a densely-connected network\n",
    "\n",
    "# https://keras.io/getting-started/functional-api-guide/\n",
    "\n",
    "\n",
    "import numpy as np\n",
    "from tensorflow.keras.models import Model\n",
    "from tensorflow.keras.utils import to_categorical\n",
    "from tensorflow.keras.layers import Input, Dense\n",
    "\n",
    "data = np.random.random((1000, 100))\n",
    "labels = np.random.randint(10, size=(1000, 1))\n",
    "\n",
    "# Convert labels to categorical one-hot encoding\n",
    "one_hot_labels = to_categorical(labels, num_classes=10)\n"
   ]
  },
  {
   "cell_type": "code",
   "execution_count": 9,
   "metadata": {},
   "outputs": [
    {
     "name": "stdout",
     "output_type": "stream",
     "text": [
      "WARNING:tensorflow:From c:\\users\\insakum46\\appdata\\local\\programs\\python\\python37\\lib\\site-packages\\tensorflow_core\\python\\ops\\math_grad.py:1424: where (from tensorflow.python.ops.array_ops) is deprecated and will be removed in a future version.\n",
      "Instructions for updating:\n",
      "Use tf.where in 2.0, which has the same broadcast rule as np.where\n",
      "Train on 1000 samples\n",
      "Epoch 1/10\n",
      "1000/1000 [==============================] - 0s 85us/sample - loss: 5.8359 - acc: 0.1150\n",
      "Epoch 2/10\n",
      "1000/1000 [==============================] - 0s 32us/sample - loss: 4.3007 - acc: 0.1120\n",
      "Epoch 3/10\n",
      "1000/1000 [==============================] - 0s 28us/sample - loss: 3.9114 - acc: 0.1040\n",
      "Epoch 4/10\n",
      "1000/1000 [==============================] - 0s 31us/sample - loss: 3.7601 - acc: 0.1040\n",
      "Epoch 5/10\n",
      "1000/1000 [==============================] - 0s 32us/sample - loss: 3.6756 - acc: 0.1080\n",
      "Epoch 6/10\n",
      "1000/1000 [==============================] - 0s 32us/sample - loss: 3.0655 - acc: 0.1170\n",
      "Epoch 7/10\n",
      "1000/1000 [==============================] - 0s 28us/sample - loss: 2.3484 - acc: 0.1100\n",
      "Epoch 8/10\n",
      "1000/1000 [==============================] - 0s 32us/sample - loss: 2.3087 - acc: 0.1160\n",
      "Epoch 9/10\n",
      "1000/1000 [==============================] - 0s 32us/sample - loss: 2.2891 - acc: 0.1360\n",
      "Epoch 10/10\n",
      "1000/1000 [==============================] - 0s 32us/sample - loss: 2.2827 - acc: 0.1320\n"
     ]
    },
    {
     "data": {
      "text/plain": [
       "<tensorflow.python.keras.callbacks.History at 0x2e61bf39f88>"
      ]
     },
     "execution_count": 9,
     "metadata": {},
     "output_type": "execute_result"
    }
   ],
   "source": [
    "inputs = Input(shape=(100,))\n",
    "output_1 = Dense(32, activation='relu')(inputs)\n",
    "# output_2 = Dense(10, activation='relu')(output_1)\n",
    "predictions = Dense(10, activation='relu')(output_1)\n",
    "\n",
    "model = Model(inputs=inputs, outputs=predictions)\n",
    "\n",
    "# Compile\n",
    "model.compile(optimizer='rmsprop',loss='categorical_crossentropy',metrics=['accuracy'])\n",
    "\n",
    "# Train the model, iterating on the data in batches of 32 samples\n",
    "model.fit(data, one_hot_labels, epochs=10, batch_size=32)"
   ]
  },
  {
   "cell_type": "code",
   "execution_count": null,
   "metadata": {},
   "outputs": [],
   "source": []
  }
 ],
 "metadata": {
  "kernelspec": {
   "display_name": "Python 3",
   "language": "python",
   "name": "python3"
  },
  "language_info": {
   "codemirror_mode": {
    "name": "ipython",
    "version": 3
   },
   "file_extension": ".py",
   "mimetype": "text/x-python",
   "name": "python",
   "nbconvert_exporter": "python",
   "pygments_lexer": "ipython3",
   "version": "3.7.4"
  }
 },
 "nbformat": 4,
 "nbformat_minor": 2
}
